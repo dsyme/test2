{
 "metadata": {
  "name": ""
 },
 "nbformat": 3,
 "nbformat_minor": 0,
 "worksheets": [
  {
   "cells": [
    {
     "cell_type": "heading",
     "level": 1,
     "metadata": {},
     "source": [
      "Plotting with Matplotlib"
     ]
    },
    {
     "cell_type": "markdown",
     "metadata": {},
     "source": [
      "IPython works with the [Matplotlib](http://matplotlib.org/) plotting library, which integrates Matplotlib with IPython's display system and event loop handling."
     ]
    },
    {
     "cell_type": "markdown",
     "metadata": {},
     "source": [
      "To make plots using Matplotlib, you must first enable IPython's matplotlib mode.\n",
      "\n",
      "To do this, run the `%matplotlib` magic command to enable plotting in the current Notebook.\n",
      "\n",
      "This magic takes an optional argument that specifies which Matplotlib backend should be used.  Most of the time, in the Notebook, you will want to use the `inline` backend, which will embed plots inside the Notebook: "
     ]
    },
    {
     "cell_type": "code",
     "collapsed": false,
     "input": [
      "%matplotlib inline\n",
      "import matplotlib.pyplot as plt"
     ],
     "language": "python",
     "metadata": {},
     "outputs": [],
     "prompt_number": 1
    },
    {
     "cell_type": "markdown",
     "metadata": {},
     "source": [
      "At any time, you can put the magic `%matplotlib` in a cell to enable plotting in the current Notebook.\n",
      "\n",
      "Now we will see a simple example of creating a plot. First, we need to import NumPy and use its linspace function to create evenly-spaced points in a given interval:"
     ]
    },
    {
     "cell_type": "code",
     "collapsed": false,
     "input": [
      "import numpy as np\n",
      "x = np.linspace(0, 3, 20)\n",
      "y = np.linspace(0, 9, 20)\n",
      "plt.plot(x, y)\n",
      "plt.plot(x, y, 'o')"
     ],
     "language": "python",
     "metadata": {},
     "outputs": [
      {
       "output_type": "pyout",
       "prompt_number": 1,
       "text": [
        "[<matplotlib.lines.Line2D object at 0x7f8f8c0d7b50>]\n"
       ]
      },
      {
       "output_type": "pyout",
       "prompt_number": 1,
       "text": [
        "[<matplotlib.lines.Line2D object at 0x7f8f8c0d7b50>]\n"
       ]
      }
     ],
     "prompt_number": 1
    },
    {
     "cell_type": "markdown",
     "metadata": {},
     "source": [
      "You can easily save the figures you make, by using the `savefig` method in the `Figure` class:"
     ]
    },
    {
     "cell_type": "code",
     "collapsed": false,
     "input": [
      "img = plt.imshow(np.random.random((20, 20)))\n",
      "plt.colorbar(img, orientation='horizontal')"
     ],
     "language": "python",
     "metadata": {},
     "outputs": [
      {
       "output_type": "pyout",
       "prompt_number": 1,
       "text": [
        "<matplotlib.colorbar.Colorbar instance at 0x7f8f8c0d7f38>\n"
       ]
      }
     ],
     "prompt_number": 1
    },
    {
     "cell_type": "markdown",
     "metadata": {},
     "source": [
      "### Line properties\n",
      "\n",
      "We can customize the properties of the lines drawn by the `plot` command by passing keyword arguments to the `plot` function.\n",
      "\n",
      "Here is an example that draws two superimposed sinusoidal curves, with different line widths, colors, and line styles:"
     ]
    },
    {
     "cell_type": "code",
     "collapsed": false,
     "input": [
      "plt.plot(x, y, '-p', color='gray',\n",
      "         markersize=15, linewidth=4,\n",
      "         markerfacecolor='white',\n",
      "         markeredgecolor='gray',\n",
      "         markeredgewidth=2)\n",
      "plt.ylim(-1, 10);"
     ],
     "language": "python",
     "metadata": {},
     "outputs": [
      {
       "output_type": "pyout",
       "prompt_number": 1,
       "text": [
        "[<matplotlib.lines.Line2D object at 0x7f8f8c0d7b50>]\n"
       ]
      }
     ],
     "prompt_number": 1
    },
    {
     "cell_type": "markdown",
     "metadata": {},
     "source": [
      "This type of flexibility in the `plot` function allows for a wide variety of possible visualization options.\n",
      "\n",
      "For a full description of the options available, refer to the `plot` documentation in Matplotlib, or the Matplotlib gallery."
     ]
    },
    {
     "cell_type": "markdown",
     "metadata": {},
     "source": [
      "### Scatter plots\n",
      "\n",
      "Another commonly used plot type is the simple scatter plot, a close cousin of the line plot.\n",
      "\n",
      "Instead of points being joined by line segments, here the points are represented individually with a dot, circle, or other shape.\n",
      "\n",
      "We’ll start by setting up the notebook for plotting and importing the functions we will use:"
     ]
    },
    {
     "cell_type": "code",
     "collapsed": false,
     "input": [
      "%matplotlib inline\n",
      "import matplotlib.pyplot as plt\n",
      "plt.style.use('seaborn-whitegrid')\n",
      "import numpy as np"
     ],
     "language": "python",
     "metadata": {},
     "outputs": [],
     "prompt_number": 1
    },
    {
     "cell_type": "markdown",
     "metadata": {},
     "source": [
      "For scatter plots, Matplotlib has a function called `scatter`, which generates a scatter plot of multiple points. The first two arguments are the X and Y coordinates of the points to plot, and the third argument is the type of symbol used for the plotting. Here we’ll use circles:"
     ]
    },
    {
     "cell_type": "code",
     "collapsed": false,
     "input": [
      "x = np.linspace(0, 10, 30)\n",
      "y = np.sin(x)"
     ],
     "language": "python",
     "metadata": {},
     "outputs": [],
     "prompt_number": 1
    },
    {
     "cell_type": "code",
     "collapsed": false,
     "input": [
      "plt.plot(x, y, 'o', color='black');"
     ],
     "language": "python",
     "metadata": {},
     "outputs": [
      {
       "output_type": "pyout",
       "prompt_number": 1,
       "text": [
        "[<matplotlib.lines.Line2D object at 0x7f8f8c0d7b50>]\n"
       ]
      }
     ],
     "prompt_number": 1
    },
    {
     "cell_type": "markdown",
     "metadata": {},
     "source": [
      "We can also specify the size of the dots by giving the `s` argument to `scatter`:"
     ]
    },
    {
     "cell_type": "code",
     "collapsed": false,
     "input": [
      "rng = np.random.RandomState(0)\n",
      "for marker in ['o', '.', ',', 'x', '+', 'v', '^', '<', '>', 's', 'd']:\n",
      "    plt.plot(rng.rand(5), rng.rand(5), marker,\n",
      "             label=\"marker='{0}'\".format(marker))\n",
      "plt.legend(numpoints=1)"
     ],
     "language": "python",
     "metadata": {},
     "outputs": [
      {
       "output_type": "pyout",
       "prompt_number": 1,
       "text": [
        "<matplotlib.legend.Legend object at 0x7f8f8c0d7b50>\n"
       ]
      }
     ],
     "prompt_number": 1
    },
    {
     "cell_type": "markdown",
     "metadata": {},
     "source": [
      "For even more possibilities, these character codes can be used together with line and color codes to plot points along with a line connecting them:"
     ]
    },
    {
     "cell_type": "code",
     "collapsed": false,
     "input": [
      "plt.plot(x, y, '-ok');"
     ],
     "language": "python",
     "metadata": {},
     "outputs": [
      {
       "output_type": "pyout",
       "prompt_number": 1,
       "text": [
        "[<matplotlib.lines.Line2D object at 0x7f8f8c0d7b50>]\n"
       ]
      }
     ],
     "prompt_number": 1
    },
    {
     "cell_type": "markdown",
     "metadata": {},
     "source": [
      "Additional keyword arguments to the function `plot` specify a wide range of properties of the lines and markers:\n",
      "\n",
      "*   Line properties: `linewidth`, `linestyle`, `color`, `marker`, `markersize`, `markeredgewidth`, `markeredgecolor` and `markerfacecolor`\n",
      "*   Text properties: `label`"
     ]
    },
    {
     "cell_type": "markdown",
     "metadata": {},
     "source": [
      "These properties can be used to customize the plot according to your needs."
     ]
    },
    {
     "cell_type": "markdown",
     "metadata": {},
     "source": [
      "### Scatter plots with `plt.scatter`\n",
      "\n",
      "In the previous section we looked at `plt.plot`/`ax.plot` to produce line plots.\n",
      "It turns out that this same function can produce scatter plots as well:\n",
      "\n",
      "```\n",
      "plt.plot(x, y, 'o', color='black');\n",
      "```\n",
      "\n",
      "The third argument in the function call is a character that represents the type of symbol used for the plotting. Just as you can specify options such as `'-'`, `'--'` to control the line style, the marker style has its own set of short string codes. The full list of available symbols can be seen in the documentation of `plt.plot`, or in Matplotlib's online documentation. Most of the possibilities are fairly intuitive, and we'll show a number of the more common ones here:"
     ]
    },
    {
     "cell_type": "code",
     "collapsed": false,
     "input": [
      "rng = np.random.RandomState(0)\n",
      "for marker in ['o', '.', ',', 'x', '+', 'v', '^', '<', '>', 's', 'd']:\n",
      "    plt.plot(rng.rand(5), rng.rand(5), marker,\n",
      "             label=\"marker='{0}'\".format(marker))\n",
      "plt.legend(numpoints=1)"
     ],
     "language": "python",
     "metadata": {},
     "outputs": [
      {
       "output_type": "pyout",
       "prompt_number": 1,
       "text": [
        "<matplotlib.legend.Legend object at 0x7f8f8c0d7b50>\n"
       ]
      }
     ],
     "prompt_number": 1
    },
    {
     "cell_type": "markdown",
     "metadata": {},
     "source": [
      "For even more possibilities, these character codes can be used together with line and color codes to plot points along with a line connecting them:"
     ]
    }
   ],
   "metadata": {}
  }
 ]
}
