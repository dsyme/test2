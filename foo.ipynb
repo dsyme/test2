{
 "metadata": {
  "name": ""
 },
 "nbformat": 3,
 "nbformat_minor": 0,
 "worksheets": [
  {
   "cells": [
    {
     "cell_type": "markdown",
     "metadata": {},
     "source": [
      "# SymPy: Open Source Symbolic Mathematics\n",
      "\n",
      "This notebook uses the [SymPy](http://sympy.org) package to perform symbolic manipulations,\n",
      "and combined with numpy and matplotlib, also displays numerical visualizations of symbolically\n",
      "constructed expressions.\n",
      "\n",
      "We first load sympy printing extensions, as well as all of sympy:"
     ]
    },
    {
     "cell_type": "code",
     "collapsed": false,
     "input": [
      "from sympy import *\n",
      "init_printing()\n",
      "from sympy.interactive import printing\n",
      "printing.init_printing(use_latex=True)"
     ],
     "language": "python",
     "metadata": {},
     "outputs": [],
     "prompt_number": 1
    },
    {
     "cell_type": "markdown",
     "metadata": {},
     "source": [
      "## Symbolic Expressions\n",
      "\n",
      "We can create symbolic expressions using the `symbols` function.  This function takes a string\n",
      "with comma-separated symbol names, and creates `Symbol` objects with those names.  We can\n",
      "then manipulate these symbolically.  For example, here we create the variables `x` and `y`\n",
      "and form the expression `x**2 + x*y + y**2`:"
     ]
    },
    {
     "cell_type": "code",
     "collapsed": false,
     "input": [
      "x, y = symbols('x,y')\n",
      "expr = x**2 + x*y + y**2\n",
      "expr"
     ],
     "language": "python",
     "metadata": {},
     "outputs": [
      {
       "data": {
        "text/plain": [
         " 2              2\n",
         "x  + x⋅y + y"
        ]
       },
       "execution_count": 4,
       "metadata": {},
       "output_type": "execute_result"
      }
     ],
     "prompt_number": 4
    },
    {
     "cell_type": "markdown",
     "metadata": {},
     "source": [
      "We can expand this expression using the `expand` function:"
     ]
    },
    {
     "cell_type": "code",
     "collapsed": false,
     "input": [
      "expand(expr)"
     ],
     "language": "python",
     "metadata": {},
     "outputs": [
      {
       "data": {
        "text/plain": [
         " 2            2\n",
         "x  + 2⋅x⋅y + y"
        ]
       },
       "execution_count": 5,
       "metadata": {},
       "output_type": "execute_result"
      }
     ],
     "prompt_number": 5
    },
    {
     "cell_type": "markdown",
     "metadata": {},
     "source": [
      "We can factor this expression using the `factor` function:"
     ]
    },
    {
     "cell_type": "code",
     "collapsed": false,
     "input": [
      "factor(expr)"
     ],
     "language": "python",
     "metadata": {},
     "outputs": [
      {
       "data": {
        "text/plain": [
         "(x + y)⋅(x + y)"
        ]
       },
       "execution_count": 6,
       "metadata": {},
       "output_type": "execute_result"
      }
     ],
     "prompt_number": 6
    },
    {
     "cell_type": "markdown",
     "metadata": {},
     "source": [
      "We can substitute a value for a symbol using the `subs` function.  Here we substitute `x=1`:"
     ]
    },
    {
     "cell_type": "code",
     "collapsed": false,
     "input": [
      "expr.subs(x, 1)"
     ],
     "language": "python",
     "metadata": {},
     "outputs": [
      {
       "data": {
        "text/plain": [
         "y**2 + y + 1"
        ]
       },
       "execution_count": 7,
       "metadata": {},
       "output_type": "execute_result"
      }
     ],
     "prompt_number": 7
    },
    {
     "cell_type": "markdown",
     "metadata": {},
     "source": [
      "We can differentiate this expression using the `diff` function.  Here we differentiate with respect to `x`:"
     ]
    },
    {
     "cell_type": "code",
     "collapsed": false,
     "input": [
      "diff(expr, x)"
     ],
     "language": "python",
     "metadata": {},
     "outputs": [
      {
       "data": {
        "text/plain": [
         "2⋅x + y"
        ]
       },
       "execution_count": 8,
       "metadata": {},
       "output_type": "execute_result"
      }
     ],
     "prompt_number": 8
    },
    {
     "cell_type": "markdown",
     "metadata": {},
     "source": [
      "We can integrate this expression using the `integrate` function.  Here we integrate with respect to `x`:"
     ]
    },
    {
     "cell_type": "code",
     "collapsed": false,
     "input": [
      "integrate(expr, x)"
     ],
     "language": "python",
     "metadata": {},
     "outputs": [
      {
       "data": {
        "text/plain": [
         " 3      2      \n",
         "x    2⋅x ⋅y    \n",
         "── + ───── + y⋅x\n",
         "3      2       "
        ]
       },
       "execution_count": 9,
       "metadata": {},
       "output_type": "execute_result"
      }
     ],
     "prompt_number": 9
    },
    {
     "cell_type": "markdown",
     "metadata": {},
     "source": [
      "We can compute the limit of this expression using the `limit` function.  Here we take the limit as `x` approaches `0`:"
     ]
    },
    {
     "cell_type": "code",
     "collapsed": false,
     "input": [
      "limit(expr, x, 0)"
     ],
     "language": "python",
     "metadata": {},
     "outputs": [
      {
       "data": {
        "text/plain": [
         "y**2"
        ]
       },
       "execution_count": 10,
       "metadata": {},
       "output_type": "execute_result"
      }
     ],
     "prompt_number": 10
    },
    {
     "cell_type": "markdown",
     "metadata": {},
     "source": [
      "We can compute the series expansion of this expression using the `series` function.  Here we expand about `x=0`:"
     ]
    },
    {
     "cell_type": "code",
     "collapsed": false,
     "input": [
      "series(expr, x, 0, 3)"
     ],
     "language": "python",
     "metadata": {},
     "outputs": [
      {
       "data": {
        "text/plain": [
         "     2      3        \n",
         "2   x    2⋅x ⋅y    ⎛ 4⎞\n",
         "y  + ── + ───── + O⎝x ⎠\n",
         "    2       2         "
        ]
       },
       "execution_count": 11,
       "metadata": {},
       "output_type": "execute_result"
      }
     ],
     "prompt_number": 11
    },
    {
     "cell_type": "markdown",
     "metadata": {},
     "source": [
      "## Symbolic Equations\n",
      "\n",
      "We can solve equations symbolically using the `solve` function.  Here we solve the quadratic equation:"
     ]
    },
    {
     "cell_type": "code",
     "collapsed": false,
     "input": [
      "solve(x**2 - 1, x)"
     ],
     "language": "python",
     "metadata": {},
     "outputs": [
      {
       "data": {
        "text/plain": [
         "[-1, 1]"
        ]
       },
       "execution_count": 12,
       "metadata": {},
       "output_type": "execute_result"
      }
     ],
     "prompt_number": 12
    },
    {
     "cell_type": "markdown",
     "metadata": {},
     "source": [
      "We can solve systems of equations symbolically using the `solve` function.  Here we solve the system:"
     ]
    },
    {
     "cell_type": "code",
     "collapsed": false,
     "input": [
      "solve([x + y - 1, x - y - 1], [x, y])"
     ],
     "language": "python",
     "metadata": {},
     "outputs": [
      {
       "data": {
        "text/plain": [
         "{x: 1, y: 0}"
        ]
       },
       "execution_count": 13,
       "metadata": {},
       "output_type": "execute_result"
      }
     ],
     "prompt_number": 13
    },
    {
     "cell_type": "markdown",
     "metadata": {},
     "source": [
      "## Symbolic Calculus\n",
      "\n",
      "We can compute the derivative of a function symbolically using the `diff` function.  Here we compute the derivative of `sin(x)`:"
     ]
    },
    {
     "cell_type": "code",
     "collapsed": false,
     "input": [
      "diff(sin(x), x)"
     ],
     "language": "python",
     "metadata": {},
     "outputs": [
      {
       "data": {
        "text/plain": [
         "cos(x)"
        ]
       },
       "execution_count": 14,
       "metadata": {},
       "output_type": "execute_result"
      }
     ],
     "prompt_number": 14
    },
    {
     "cell_type": "markdown",
     "metadata": {},
     "source": [
      "We can compute the integral of a function symbolically using the `integrate` function.  Here we compute the integral of `sin(x)`:"
     ]
    },
    {
     "cell_type": "code",
     "collapsed": false,
     "input": [
      "integrate(sin(x), x)"
     ],
     "language": "python",
     "metadata": {},
     "outputs": [
      {
       "data": {
        "text/plain": [
         "-cos(x)"
        ]
       },
       "execution_count": 15,
       "metadata": {},
       "output_type": "execute_result"
      }
     ],
     "prompt_number": 15
    },
    {
     "cell_type": "markdown",
     "metadata": {},
     "source": [
      "We can compute the limit of a function symbolically using the `limit` function.  Here we compute the limit of `sin(x)/x` as `x` approaches `0`:"
     ]
    },
    {
     "cell_type": "code",
     "collapsed": false,
     "input": [
      "limit(sin(x)/x, x, 0)"
     ],
     "language": "python",
     "metadata": {},
     "outputs": [
      {
       "data": {
        "text/plain": [
         "1"
        ]
       },
       "execution_count": 16,
       "metadata": {},
       "output_type": "execute_result"
      }
     ],
     "prompt_number": 16
    },
    {
     "cell_type": "markdown",
     "metadata": {},
     "source": [
      "We can compute the series expansion of a function symbolically using the `series` function.  Here we compute the series expansion of `sin(x)` about `x=0`:"
     ]
    }
   ],
   "metadata": {}
  }
 ]
}
