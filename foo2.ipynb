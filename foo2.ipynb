{
 "metadata": {
  "name": ""
 },
 "nbformat": 3,
 "nbformat_minor": 0,
 "worksheets": [
  {
   "cells": [
    {
     "cell_type": "heading",
     "level": 1,
     "metadata": {},
     "source": [
      "Plotting with Matplotlib"
     ]
    },
    {
     "cell_type": "markdown",
     "metadata": {},
     "source": [
      "IPython works with the [Matplotlib](http://matplotlib.org/) plotting library, which integrates Matplotlib with IPython's display system and event loop handling."
     ]
    },
    {
     "cell_type": "markdown",
     "metadata": {},
     "source": [
      "To make plots using Matplotlib, you must first enable IPython's matplotlib mode. To do this, run the `%matplotlib` magic command to enable plotting in the current Notebook. This magic takes an optional argument that specifies which Matplotlib backend should be used. Most of the time, in the Notebook, you will want to use the `inline` backend, which will embed plots inside the Notebook: "
     ]
    },
    {
     "cell_type": "code",
     "collapsed": false,
     "input": [
      "%matplotlib inline\n",
      "import matplotlib.pyplot as plt"
     ],
     "language": "python",
     "metadata": {},
     "outputs": [],
     "prompt_number": 5
    },
    {
     "cell_type": "markdown",
     "metadata": {},
     "source": [
      "At any time, you can put the magic `%matplotlib` in a cell to enable plotting in the current Notebook. When you want to put plots in a different Notebook, you'll need to use the `%matplotlib notebook` or `%matplotlib qt` magics to set up interactive plots."
     ]
    },
    {
     "cell_type": "markdown",
     "metadata": {},
     "source": [
      "### Plotting from an IPython notebook"
     ]
    },
    {
     "cell_type": "markdown",
     "metadata": {},
     "source": [
      "With the `inline` backend, the output of plotting commands is displayed inline within frontends like the Notebook. The resulting plots will then also be stored in the Notebook document.\n",
      "\n",
      "Plots are drawn using Matplotlib's Python plotting library. Therefore, before showing how to use Matplotlib in IPython, we'll first show a very simple example using `Matplotlib` in a stand-alone Python script.\n",
      "\n",
      "You can download this script, named `plot_simple.py`, by clicking on this link: [plot_simple.py](files/attachments/Matplotlib/plot_simple.py).\n",
      "\n",
      "To run the script, save it in a directory and then run it in that directory using the following command:\n",
      "\n",
      "```\n",
      "python plot_simple.py\n",
      "```\n",
      "\n",
      "The script should produce a plot like this one:\n",
      "\n",
      "![](files/attachments/Matplotlib/plot_simple.png)\n",
      "\n",
      "The script begins by importing the `matplotlib.pyplot` module under the name `plt`.\n",
      "\n",
      "```\n",
      "import matplotlib.pyplot as plt\n",
      "```\n",
      "\n",
      "The `plt` interface is what we will use most often, as we'll see throughout this chapter.\n",
      "\n",
      "The script creates two arrays of numbers, `x` and `y`, and plots `y` versus `x` as red circles.\n",
      "\n",
      "```\n",
      "x = [0, 1, 2, 3, 4]\n",
      "y = [0, 1, 4, 9, 16]\n",
      "plt.plot(x, y, 'ro')\n",
      "```\n",
      "\n",
      "The `plot` function creates a line plot. The first argument is the sequence of `x`-values, the second is the sequence of `y`-values. The third argument, `'ro'`, is a format string that indicates that the plot should be a red circle.\n",
      "\n",
      "The `x` and `y` ranges are automatically chosen based on the input data.\n",
      "\n",
      "The script then calls `plt.axis` to set the `x` and `y` ranges.\n",
      "\n",
      "```\n",
      "plt.axis([0, 6, 0, 20])\n",
      "```\n",
      "\n",
      "The `axis` function takes a list of `[xmin, xmax, ymin, ymax]` and specifies the viewport of the axes.\n",
      "\n",
      "Finally, the script calls `plt.show` to show the plot.\n",
      "\n",
      "```\n",
      "plt.show()\n",
      "```\n",
      "\n",
      "The `show` function causes the figure to be displayed below in the Notebook. The `show` function should be used only once per Python session, and is most often seen at the very end of the script.\n",
      "\n",
      "`show` tells the Notebook to display the contents of the current figure. The `figure` object holds this number in a number attribute. If you execute the same commands multiple times, the figure number will increment:\n",
      "\n",
      "```\n",
      "In [1]: plt.figure()\n",
      "Out[1]: <matplotlib.figure.Figure at 0x7f8b8c0b7f90>\n",
      "\n",
      "In [2]: plt.figure()\n",
      "Out[2]: <matplotlib.figure.Figure at 0x7f8b8c0b7f90>\n",
      "\n",
      "In [3]: plt.figure()\n",
      "Out[3]: <matplotlib.figure.Figure at 0x7f8b8c0b7f90>\n",
      "```\n",
      "\n",
      "The `figure` object is a powerful container that can contain many other objects, such as axes, graphics, text, and labels. The `Figure` can be thought of as a single container that contains all the objects representing axes, graphics, text, and labels.\n",
      "\n",
      "The `show` function does a lot under the hood, as it must interact with your system's interactive graphical backend. The details of this operation can vary greatly from system to system and even installation to installation, but matplotlib does its best to hide all these details from you.\n",
      "\n",
      "One thing to be aware of: the `show` function should be used only once per Python session, and is most often seen at the very end of the script. Multiple `show` commands can lead to unpredictable backend-dependent behavior, and should mostly be avoided."
     ]
    },
    {
     "cell_type": "markdown",
     "metadata": {},
     "source": [
      "### Plotting from an IPython notebook"
     ]
    },
    {
     "cell_type": "markdown",
     "metadata": {},
     "source": [
      "With the `inline` backend, the output of plotting commands is displayed inline within frontends like the Notebook. The resulting plots will then also be stored in the Notebook document.\n",
      "\n",
      "Plots are drawn using Matplotlib's Python plotting library. Therefore, before showing how to use Matplotlib in IPython, we'll first show a very simple example using `Matplotlib` in a stand-alone Python script.\n",
      "\n",
      "You can download this script, named `plot_simple.py`, by clicking on this link: [plot_simple.py](files/attachments/Matplotlib/plot_simple.py).\n",
      "\n",
      "To run the script, save it in a directory and then run it in that directory using the following command:\n",
      "\n",
      "```\n",
      "python plot_simple.py\n",
      "```\n",
      "\n",
      "The script should produce a plot like this one:\n",
      "\n",
      "![](files/attachments/Matplotlib/plot_simple.png)\n",
      "\n",
      "The script begins by importing the `matplotlib.pyplot` module under the name `plt`.\n",
      "\n",
      "```\n",
      "import matplotlib.pyplot as plt\n",
      "```\n",
      "\n",
      "The `plt` interface is what we will use most often, as we'll see throughout this chapter.\n",
      "\n",
      "The script creates two arrays of numbers, `x` and `y`, and plots `y` versus `x` as red circles.\n",
      "\n",
      "```\n",
      "x = [0, 1, 2, 3, 4]\n",
      "y = [0, 1, 4, 9, 16]\n",
      "plt.plot(x, y, 'ro')\n",
      "```\n",
      "\n",
      "The `plot` function creates a line plot. The first argument is the sequence of `x`-values, the second is the sequence of `y`-values. The third argument, `'ro'`, is a format string that indicates that the plot should be a red circle.\n",
      "\n",
      "The `x` and `y` ranges are automatically chosen based on the input data.\n",
      "\n",
      "The script then calls `plt.axis` to set the `x` and `y` ranges.\n",
      "\n",
      "```\n",
      "plt.axis([0, 6, 0, 20])\n",
      "```\n",
      "\n",
      "The `axis` function takes a list of `[xmin, xmax, ymin, ymax]` and specifies the viewport of the axes.\n",
      "\n",
      "Finally, the script calls `plt.show` to show the plot.\n",
      "\n",
      "```\n",
      "plt.show()\n",
      "```\n",
      "\n",
      "The `show` function causes the figure to be displayed below in the Notebook. The `show` function should be used only once per Python session, and is most often seen at the very end of the script.\n",
      "\n",
      "`show` tells the Notebook to display the contents of the current figure. The `figure` object holds this number in a number attribute. If you execute the same commands multiple times, the figure number will increment:\n",
      "\n",
      "```\n",
      "In [1]: plt.figure()\n",
      "Out[1]: <matplotlib.figure.Figure at 0x7f8b8c0b7f90>\n",
      "\n",
      "In [2]: plt.figure()\n",
      "Out[2]: <matplotlib.figure.Figure at 0x7f8b8c0b7f90>\n",
      "\n",
      "In [3]: plt.figure()\n",
      "Out[3]: <matplotlib.figure.Figure at 0x7f8b8c0b7f90>\n",
      "```\n",
      "\n",
      "The `figure` object is a powerful container that can contain many other objects, such as axes, graphics, text, and labels. The `Figure` can be thought of as a single container that contains all the objects representing axes, graphics, text, and labels.\n",
      "\n",
      "The `show` function does a lot under the hood, as it must interact with your system's interactive graphical backend. The details of this operation can vary greatly from system to system and even installation to installation, but matplotlib does its best to hide all these details from you.\n",
      "\n",
      "One thing to be aware of: the `show` function should be used only once per Python session, and is most often seen at the very end of the script. Multiple `show` commands can lead to unpredictable backend-dependent behavior, and should mostly be avoided."
     ]
    },
    {
     "cell_type": "markdown",
     "metadata": {},
     "source": [
      "### Simple line plots"
     ]
    },
    {
     "cell_type": "markdown",
     "metadata": {},
     "source": [
      "Perhaps the simplest of all plots is the visualization of a single function `y = f(x)`. Here we will take a first look at creating a simple plot of this type. As with all the following sections, we'll start by setting up the notebook for plotting and importing the packages we will use:"
     ]
    },
    {
     "cell_type": "code",
     "collapsed": false,
     "input": [
      "%matplotlib inline\n",
      "import numpy as np\n",
      "import matplotlib.pyplot as plt"
     ],
     "language": "python",
     "metadata": {},
     "outputs": [],
     "prompt_number": 7
    },
    {
     "cell_type": "markdown",
     "metadata": {},
     "source": [
      "For all Matplotlib plots, we start by creating a figure and an axes. In their simplest form, a figure and axes can be created as follows:"
     ]
    }
   ],
   "metadata": {}
  }
 ]
}
